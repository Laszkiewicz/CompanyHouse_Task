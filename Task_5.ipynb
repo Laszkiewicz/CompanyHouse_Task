{
 "cells": [
  {
   "cell_type": "markdown",
   "id": "5ed10b17-aec0-44a8-9129-6691794cc7f6",
   "metadata": {},
   "source": [
    "<h1> Task 5 </h1>"
   ]
  },
  {
   "cell_type": "code",
   "execution_count": null,
   "id": "db1638cd-61ad-4ec7-a20f-1388771c4c10",
   "metadata": {},
   "outputs": [],
   "source": [
    "/header[@id=\"header\"]/div[@class=\"container\"]/div[1]/div[1]/a[2]/img[@src=\"https://www.companyhouse.de/wp-content/uploads/2019/03/ch-logo-retina.png\"]"
   ]
  },
  {
   "cell_type": "code",
   "execution_count": null,
   "id": "33c57b61-941b-42e5-846d-a69d261ac981",
   "metadata": {},
   "outputs": [],
   "source": [
    "/header[@id=\"header\"]/div[@class=\"container\"]/div[1]/div[2]/div[@class=\"header-icons\"]/a[@href=\"#\"]/i[@class=\"icon-minti-search\"]@class"
   ]
  },
  {
   "cell_type": "code",
   "execution_count": null,
   "id": "5aabc939-7f5f-4ab6-a7ea-20ea34751a7a",
   "metadata": {},
   "outputs": [],
   "source": [
    "/a[@class=\"tp-caption rev-btn rev-hiddenicon \"]@class\n"
   ]
  }
 ],
 "metadata": {
  "kernelspec": {
   "display_name": "Python 3 (ipykernel)",
   "language": "python",
   "name": "python3"
  },
  "language_info": {
   "codemirror_mode": {
    "name": "ipython",
    "version": 3
   },
   "file_extension": ".py",
   "mimetype": "text/x-python",
   "name": "python",
   "nbconvert_exporter": "python",
   "pygments_lexer": "ipython3",
   "version": "3.10.6"
  }
 },
 "nbformat": 4,
 "nbformat_minor": 5
}
