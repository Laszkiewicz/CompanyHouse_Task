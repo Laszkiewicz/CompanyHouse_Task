{
 "cells": [
  {
   "cell_type": "markdown",
   "id": "a2243b0c-081e-498f-a5b1-f2940ff26317",
   "metadata": {},
   "source": [
    "<h1> Task 4 </h1>"
   ]
  },
  {
   "cell_type": "code",
   "execution_count": null,
   "id": "c1412ae3-5d52-409b-abd3-ab9b9f21440e",
   "metadata": {},
   "outputs": [],
   "source": [
    "SELECT first_name from person WHERE first_name LIKE '%ski';"
   ]
  },
  {
   "cell_type": "code",
   "execution_count": null,
   "id": "74e8f7a1-5237-42da-9ecc-0dd1e5c74109",
   "metadata": {},
   "outputs": [],
   "source": [
    "SELECT * FROM person_address LEFT JOIN person on person_address.id = person.id"
   ]
  },
  {
   "cell_type": "code",
   "execution_count": null,
   "id": "6a4d2ba1-0ebe-4313-ba4d-e63a2e16e5f6",
   "metadata": {},
   "outputs": [],
   "source": [
    "CREATE INDEX idx_fullname ON person(first_name, last_name) "
   ]
  }
 ],
 "metadata": {
  "kernelspec": {
   "display_name": "Python 3 (ipykernel)",
   "language": "python",
   "name": "python3"
  },
  "language_info": {
   "codemirror_mode": {
    "name": "ipython",
    "version": 3
   },
   "file_extension": ".py",
   "mimetype": "text/x-python",
   "name": "python",
   "nbconvert_exporter": "python",
   "pygments_lexer": "ipython3",
   "version": "3.10.6"
  }
 },
 "nbformat": 4,
 "nbformat_minor": 5
}
