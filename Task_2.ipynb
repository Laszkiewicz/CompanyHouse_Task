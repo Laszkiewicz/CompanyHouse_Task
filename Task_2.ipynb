{
 "cells": [
  {
   "cell_type": "markdown",
   "id": "ca110494-92af-4251-b7a0-783aca436a03",
   "metadata": {},
   "source": [
    "<h1>Task 3  </h1>"
   ]
  },
  {
   "cell_type": "markdown",
   "id": "f14ea8e2-acba-49d9-ac2c-589a960c2ab5",
   "metadata": {},
   "source": [
    "People:\n",
    "<p>Martin Schultz</p>\n",
    "<p>Erste Geschäftsführer<font color='red'> This is not a name, but a phrase meaning \"first directors\"</font></p>\n",
    "<p>Udo Koch</p>\n",
    "<p>Ludvik Alan Bohn</p>\n",
    "<p>Mathias von Richthofen</p>\n",
    "<p>Prokurist Erstellen<font color='red'> This is not a name, but a phrase meaning \"create authorized signatory\"</font> </p>\n",
    "<p>A I Automatisch<font color='red'> This is not a name, but a phrase meaning \" AI automatic\" (artificial inteligence) </font> </p>\n",
    "<p>Essen Wiesbaden<font color='red'> This is not a name, but a phrase meaning literally \"eating Wiesbaden (Wiesbaden is a city)</font> <</p>\n",
    "<p>W. B. Schuler</p>\n",
    "<p>Helga Koch</p>\n",
    "<p>Kaufmann Gesellschafter<font color='red'> This is not a name, but a phrase meaning \"merchang shareholder</font> </p>\n",
    "<p>Martin Schmidt</p>\n",
    "<p>Vaclav Baumer</p>\n",
    "<p>Diplom Ingenieur<font color='red'> This is not a name, but a phrase meaning, \"graduate engineer\" a diploma.</font> </p>\n",
    "<p>Hans Jens Kowalski</p>\n",
    "<p>A. Konditorei<font color='red'> This is not a name, but a phrase meaning \"bakery, cafe\" place where sweets are produced.</font></p>\n"
   ]
  },
  {
   "cell_type": "markdown",
   "id": "a2e8ab1a-f614-41a5-9a95-d6ad38782ab4",
   "metadata": {},
   "source": [
    "Company names:\n",
    "<p>Companyhouse AG</p>\n",
    "<p>als Liquidator<font color='red'> There is a company named ALS Liquidation LLC, et al, but the phrase itself means \"abwickler\"</font></p>\n",
    "<p>bisherige Unternehmen<font color='red'> \"</font></p>\n",
    "<p>Persönlich haftender Gesellschafter<font color='red'> This means personal partner</font></p>\n",
    "<p>München Stadt<font color='red'> This is not a company, but a phrase meaning city Munich</font> </p>\n",
    "<p>Vereinigten Staaten<font color='red'> This is not a company, but a phrase meaning unitet states</font> </p>\n",
    "<p>Hofbau GmbH<font color='red'> There is company named HOFBAUER not hofbau</font> </p>\n",
    "<p>Altor Co. KG</p>\n",
    "<p>Ticos Systems</p>\n",
    "<p>Schwarz Immobilien</p>\n"
   ]
  },
  {
   "cell_type": "code",
   "execution_count": null,
   "id": "68df6c8e-fa1d-4747-a1d9-0d92b323c91d",
   "metadata": {},
   "outputs": [],
   "source": []
  }
 ],
 "metadata": {
  "kernelspec": {
   "display_name": "Python 3 (ipykernel)",
   "language": "python",
   "name": "python3"
  },
  "language_info": {
   "codemirror_mode": {
    "name": "ipython",
    "version": 3
   },
   "file_extension": ".py",
   "mimetype": "text/x-python",
   "name": "python",
   "nbconvert_exporter": "python",
   "pygments_lexer": "ipython3",
   "version": "3.10.6"
  }
 },
 "nbformat": 4,
 "nbformat_minor": 5
}
