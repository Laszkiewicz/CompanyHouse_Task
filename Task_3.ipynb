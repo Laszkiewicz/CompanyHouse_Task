{
 "cells": [
  {
   "cell_type": "markdown",
   "id": "76eaa64f-43ec-4c3e-a576-f0b9af5b5c2e",
   "metadata": {},
   "source": [
    "<h1> Task 1 </h1>"
   ]
  },
  {
   "cell_type": "markdown",
   "id": "b11cfe7a-6df6-49a2-bb83-10c1b2d1af1a",
   "metadata": {},
   "source": [
    "<h2> Text 1 </h2>"
   ]
  },
  {
   "cell_type": "raw",
   "id": "40677b9b-5c93-4acb-a89c-f79d42604dfe",
   "metadata": {},
   "source": [
    "HRB 12 286 -- 20. 12. 2001: Beispiel Corp GmbH, Wiesbaden. Hans\n",
    "Wundertoll ist zum Vorsitzenden des Vorstandes ernannt. Prokura zusammen\n",
    "mit einem Prokuristen oder mit einem Vorstandsmitglied: Udo Martin, 19. 03.\n",
    "1945, 51234 Mainz; Frank Fischer, 01. 01. 1960, 32340 Oberaula; Eckart\n",
    "Gärtner, 27. 12. 1967, 55127 Mainz."
   ]
  },
  {
   "cell_type": "raw",
   "id": "e759cf47-953e-48ef-84dc-ece60e1739d1",
   "metadata": {},
   "source": [
    "Business Registry(Handelsregisternummer) - 12 286"
   ]
  },
  {
   "cell_type": "raw",
   "id": "62d51046-ff72-4b39-a426-35874e70f715",
   "metadata": {},
   "source": [
    "Business start date: 20.12.2001"
   ]
  },
  {
   "cell_type": "raw",
   "id": "4a403eac-7c18-4946-9dc7-9f6c842ad1b6",
   "metadata": {},
   "source": [
    "Name: Beispiel Corp GmbH"
   ]
  },
  {
   "cell_type": "raw",
   "id": "e137d405-66f7-4843-bcf3-ef5c0692d3fc",
   "metadata": {},
   "source": [
    "Location: WiesBaden(Hesse)"
   ]
  },
  {
   "cell_type": "raw",
   "id": "69f1863e-364c-49f6-8df8-8908d4dcd6e1",
   "metadata": {},
   "source": [
    "Personal Info: Hans Wundertoll has been appointed as a Chairman of the board of procuration together with an authorized signatory or with a board member:"
   ]
  },
  {
   "cell_type": "raw",
   "id": "856d3ccb-ecab-4c7b-8e89-2125dd6238ef",
   "metadata": {},
   "source": [
    "Personal Info:  Udo Martin -  Who is born March 19, 1945 in 51234(zip code) Mainz"
   ]
  },
  {
   "cell_type": "raw",
   "id": "66921591-9eff-431f-8504-a3506279a7c6",
   "metadata": {},
   "source": [
    "Personal Info: Frank Fischer - Who is born January 1 - 1960 in 32340(zip code) Oberaula"
   ]
  },
  {
   "cell_type": "raw",
   "id": "45fc489c-3132-4e81-8f55-d6b0f14ca2d5",
   "metadata": {},
   "source": [
    "Personal Info Eckart Gartner - who is born in December 27- 1967 in 55127 (zip code) Mainz"
   ]
  },
  {
   "cell_type": "markdown",
   "id": "29ff60ec-afdb-4be1-bbfa-c09c20b80381",
   "metadata": {},
   "source": [
    "<h2>Text 2 </h2>"
   ]
  },
  {
   "cell_type": "raw",
   "id": "7f8f4956-4777-4d38-892a-63ab2ab7dadc",
   "metadata": {},
   "source": [
    "HRB 12286: Beispiel Zwei AG, Kormoranstarsse 5, 65244 Wiesbaden. Bestellt\n",
    "als Vorstand: Mathias, Tanja, Ober(Taunus), *04.05.1973; Dr. Jung, Ole,\n",
    "Wiesbaden, *27.08.1999."
   ]
  },
  {
   "cell_type": "raw",
   "id": "206cc870-66b7-4bee-ab85-d5db54fd1fcf",
   "metadata": {},
   "source": [
    "Business Registry(Handelsregisternummer) - 12286"
   ]
  },
  {
   "cell_type": "raw",
   "id": "f42bf966-87a7-485e-ad75-cea206f94db4",
   "metadata": {},
   "source": [
    "Company name: Example Two Ag."
   ]
  },
  {
   "cell_type": "raw",
   "id": "9fe69aa1-6cea-4253-893c-ca439d6543ef",
   "metadata": {},
   "source": [
    "Location: Kormoranstraße(there was a typo) 5 - 65244 Wiesbaden  "
   ]
  },
  {
   "cell_type": "raw",
   "id": "a3679736-7323-4db5-a5c3-714c55edb892",
   "metadata": {},
   "source": [
    " Appointed to the Board Members: Mathias, Tanja, Ober in Taunus as of date 04.05.1973"
   ]
  },
  {
   "cell_type": "raw",
   "id": "2163f14d-ec35-4b86-ab35-138a3d050a6f",
   "metadata": {},
   "source": [
    "Appointed to the board: Dr. Jung, Ole in Wiesbaden as of date 27.08.1999"
   ]
  },
  {
   "cell_type": "raw",
   "id": "8ffdbee5-9281-4069-8ef1-9c629ec7e599",
   "metadata": {},
   "source": []
  }
 ],
 "metadata": {
  "kernelspec": {
   "display_name": "Python 3 (ipykernel)",
   "language": "python",
   "name": "python3"
  },
  "language_info": {
   "codemirror_mode": {
    "name": "ipython",
    "version": 3
   },
   "file_extension": ".py",
   "mimetype": "text/x-python",
   "name": "python",
   "nbconvert_exporter": "python",
   "pygments_lexer": "ipython3",
   "version": "3.10.6"
  }
 },
 "nbformat": 4,
 "nbformat_minor": 5
}
